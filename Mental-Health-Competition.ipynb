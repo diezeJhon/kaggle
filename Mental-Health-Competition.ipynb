{
  "cells": [
    {
      "cell_type": "markdown",
      "metadata": {
        "id": "view-in-github",
        "colab_type": "text"
      },
      "source": [
        "<a href=\"https://colab.research.google.com/github/diezeJhon/kaggle/blob/main/Mental-Health-Competition.ipynb\" target=\"_parent\"><img src=\"https://colab.research.google.com/assets/colab-badge.svg\" alt=\"Open In Colab\"/></a>"
      ]
    },
    {
      "cell_type": "markdown",
      "id": "2c49218a",
      "metadata": {
        "id": "2c49218a"
      },
      "source": [
        "# Competition kaggle :\n",
        "https://www.kaggle.com/competitions/playground-series-s4e11\n",
        "\n",
        "- Submissions are evaluated using Accuracy Score.\n"
      ]
    },
    {
      "cell_type": "code",
      "execution_count": 22,
      "id": "68395d29",
      "metadata": {
        "_cell_guid": "b1076dfc-b9ad-4769-8c92-a6c4dae69d19",
        "_uuid": "8f2839f25d086af736a60e9eeb907d3b93b6e0e5",
        "colab": {
          "base_uri": "https://localhost:8080/"
        },
        "execution": {
          "iopub.execute_input": "2024-11-16T16:37:37.835183Z",
          "iopub.status.busy": "2024-11-16T16:37:37.834692Z",
          "iopub.status.idle": "2024-11-16T16:37:38.846103Z",
          "shell.execute_reply": "2024-11-16T16:37:38.844624Z"
        },
        "id": "68395d29",
        "outputId": "085bfbaa-b14a-4b3f-9c2b-8e050b523254",
        "papermill": {
          "duration": 1.019082,
          "end_time": "2024-11-16T16:37:38.848912",
          "exception": false,
          "start_time": "2024-11-16T16:37:37.829830",
          "status": "completed"
        },
        "tags": []
      },
      "outputs": [
        {
          "output_type": "stream",
          "name": "stdout",
          "text": [
            "Drive already mounted at /content/drive; to attempt to forcibly remount, call drive.mount(\"/content/drive\", force_remount=True).\n",
            "Google Colab detected. Base path set to: /content/drive/MyDrive/data/kaggle/playground-series-s4e11\n",
            "Contents of the directory '/content/drive/MyDrive/data/kaggle/playground-series-s4e11':\n",
            "/content/drive/MyDrive/data/kaggle/playground-series-s4e11/test.csv\n",
            "/content/drive/MyDrive/data/kaggle/playground-series-s4e11/train.csv\n",
            "/content/drive/MyDrive/data/kaggle/playground-series-s4e11/sample_submission.csv\n"
          ]
        }
      ],
      "source": [
        "import numpy as np\n",
        "import pandas as pd\n",
        "import sys\n",
        "import os\n",
        "# Define the base path depending on the environment\n",
        "nameCompetition = \"playground-series-s4e11\"\n",
        "if 'google.colab' in sys.modules:\n",
        "    from google.colab import drive\n",
        "    drive.mount('/content/drive')\n",
        "    base_path = \"/content/drive/MyDrive/data/kaggle/\" + nameCompetition\n",
        "    print(\"Google Colab detected. Base path set to:\", base_path)\n",
        "elif \"KAGGLE_KERNEL_RUN_TYPE\" in os.environ:\n",
        "    base_path = \"/kaggle/input/\" + nameCompetition\n",
        "    print(\"Kaggle environment detected. Base path set to:\", base_path)\n",
        "else:\n",
        "    base_path = \"../input/\" + nameCompetition\n",
        "    print(\"Local environment detected. Base path set to:\", base_path)\n",
        "# List all files in the base path directory\n",
        "if os.path.exists(base_path):\n",
        "    print(f\"Contents of the directory '{base_path}':\")\n",
        "    for dirname, _, filenames in os.walk(base_path):\n",
        "        for filename in filenames:\n",
        "            print(os.path.join(dirname, filename))\n",
        "else:\n",
        "    print(f\"The directory '{base_path}' does not exist.\")\n"
      ]
    },
    {
      "cell_type": "code",
      "execution_count": 20,
      "id": "831b3102",
      "metadata": {
        "execution": {
          "iopub.execute_input": "2024-11-16T16:37:38.856019Z",
          "iopub.status.busy": "2024-11-16T16:37:38.855348Z",
          "iopub.status.idle": "2024-11-16T16:37:39.675569Z",
          "shell.execute_reply": "2024-11-16T16:37:39.674209Z"
        },
        "id": "831b3102",
        "papermill": {
          "duration": 0.82688,
          "end_time": "2024-11-16T16:37:39.678518",
          "exception": false,
          "start_time": "2024-11-16T16:37:38.851638",
          "status": "completed"
        },
        "tags": []
      },
      "outputs": [],
      "source": [
        "df = pd.read_csv(f\"{base_path}/train.csv\")"
      ]
    },
    {
      "cell_type": "code",
      "execution_count": null,
      "id": "38148669",
      "metadata": {
        "id": "38148669",
        "outputId": "bc62fc3a-31a4-4f55-a57a-005b88f14383"
      },
      "outputs": [
        {
          "name": "stdout",
          "output_type": "stream",
          "text": [
            "<class 'pandas.core.frame.DataFrame'>\n",
            "RangeIndex: 140700 entries, 0 to 140699\n",
            "Data columns (total 20 columns):\n",
            " #   Column                                 Non-Null Count   Dtype  \n",
            "---  ------                                 --------------   -----  \n",
            " 0   id                                     140700 non-null  int64  \n",
            " 1   Name                                   140700 non-null  object \n",
            " 2   Gender                                 140700 non-null  object \n",
            " 3   Age                                    140700 non-null  float64\n",
            " 4   City                                   140700 non-null  object \n",
            " 5   Working Professional or Student        140700 non-null  object \n",
            " 6   Profession                             104070 non-null  object \n",
            " 7   Academic Pressure                      27897 non-null   float64\n",
            " 8   Work Pressure                          112782 non-null  float64\n",
            " 9   CGPA                                   27898 non-null   float64\n",
            " 10  Study Satisfaction                     27897 non-null   float64\n",
            " 11  Job Satisfaction                       112790 non-null  float64\n",
            " 12  Sleep Duration                         140700 non-null  object \n",
            " 13  Dietary Habits                         140696 non-null  object \n",
            " 14  Degree                                 140698 non-null  object \n",
            " 15  Have you ever had suicidal thoughts ?  140700 non-null  object \n",
            " 16  Work/Study Hours                       140700 non-null  float64\n",
            " 17  Financial Stress                       140696 non-null  float64\n",
            " 18  Family History of Mental Illness       140700 non-null  object \n",
            " 19  Depression                             140700 non-null  int64  \n",
            "dtypes: float64(8), int64(2), object(10)\n",
            "memory usage: 21.5+ MB\n"
          ]
        }
      ],
      "source": [
        "df.info()"
      ]
    },
    {
      "cell_type": "markdown",
      "id": "725d1097",
      "metadata": {
        "id": "725d1097"
      },
      "source": [
        "# EDA - Exploratory Data Analysis"
      ]
    },
    {
      "cell_type": "markdown",
      "id": "b0f1cda0",
      "metadata": {
        "id": "b0f1cda0"
      },
      "source": [
        "## What is CGPA?"
      ]
    },
    {
      "cell_type": "code",
      "execution_count": null,
      "id": "2AedlDenh7yw",
      "metadata": {
        "id": "2AedlDenh7yw"
      },
      "outputs": [],
      "source": [
        "from google.colab import drive\n",
        "drive.mount('/content/drive')"
      ]
    },
    {
      "cell_type": "markdown",
      "id": "0d50b275",
      "metadata": {
        "id": "0d50b275"
      },
      "source": [
        "CGPA stands for Cumulative Grade Point Average. It is a grading system used in many countries (notably in India, the United States, and some European educational systems) to assess the overall academic performance of a student over a given period.\n",
        "\n",
        "formula = Grade * credits / Total credits"
      ]
    },
    {
      "cell_type": "code",
      "execution_count": null,
      "id": "e587b518",
      "metadata": {
        "id": "e587b518",
        "outputId": "3af8200f-0513-4007-fcd1-6cf4149b5766"
      },
      "outputs": [
        {
          "data": {
            "text/plain": [
              "count    27898.000000\n",
              "mean         7.658636\n",
              "std          1.464466\n",
              "min          5.030000\n",
              "25%          6.290000\n",
              "50%          7.770000\n",
              "75%          8.920000\n",
              "max         10.000000\n",
              "Name: CGPA, dtype: float64"
            ]
          },
          "execution_count": 20,
          "metadata": {},
          "output_type": "execute_result"
        }
      ],
      "source": [
        "df[\"CGPA\"].describe()"
      ]
    },
    {
      "cell_type": "code",
      "execution_count": null,
      "id": "1ef98073",
      "metadata": {
        "id": "1ef98073",
        "outputId": "2a23b89b-d8b1-4961-8664-071926c1928e"
      },
      "outputs": [
        {
          "data": {
            "text/plain": [
              "id                                        0.000000\n",
              "Name                                      0.000000\n",
              "Gender                                    0.000000\n",
              "Age                                       0.000000\n",
              "City                                      0.000000\n",
              "Working Professional or Student           0.000000\n",
              "Profession                               26.034115\n",
              "Academic Pressure                        80.172708\n",
              "Work Pressure                            19.842217\n",
              "CGPA                                     80.171997\n",
              "Study Satisfaction                       80.172708\n",
              "Job Satisfaction                         19.836532\n",
              "Sleep Duration                            0.000000\n",
              "Dietary Habits                            0.002843\n",
              "Degree                                    0.001421\n",
              "Have you ever had suicidal thoughts ?     0.000000\n",
              "Work/Study Hours                          0.000000\n",
              "Financial Stress                          0.002843\n",
              "Family History of Mental Illness          0.000000\n",
              "Depression                                0.000000\n",
              "dtype: float64"
            ]
          },
          "execution_count": 21,
          "metadata": {},
          "output_type": "execute_result"
        }
      ],
      "source": [
        "(df.isna().sum() / len(df)) * 100"
      ]
    },
    {
      "cell_type": "code",
      "execution_count": null,
      "id": "41cbb54f",
      "metadata": {
        "id": "41cbb54f",
        "outputId": "809ed73f-d7d7-479c-c699-0b221dcf85e0"
      },
      "outputs": [
        {
          "data": {
            "text/plain": [
              "Working Professional or Student\n",
              "Working Professional    80.169865\n",
              "Student                 19.830135\n",
              "Name: proportion, dtype: float64"
            ]
          },
          "execution_count": 30,
          "metadata": {},
          "output_type": "execute_result"
        }
      ],
      "source": [
        "\n",
        "import seaborn as sns\n",
        "df_percentage = df[\"Working Professional or Student\"].value_counts(normalize=True) * 100\n",
        "df_percentage"
      ]
    },
    {
      "cell_type": "code",
      "execution_count": null,
      "id": "5a93ea35",
      "metadata": {
        "id": "5a93ea35",
        "outputId": "3a6198c9-c541-40bd-e1e9-13865736f94d"
      },
      "outputs": [
        {
          "data": {
            "text/plain": [
              "<Axes: xlabel='Working Professional or Student'>"
            ]
          },
          "execution_count": 29,
          "metadata": {},
          "output_type": "execute_result"
        },
        {
          "data": {
            "image/png": "[encoded data removed]",
            "text/plain": [
              "<Figure size 640x480 with 1 Axes>"
            ]
          },
          "metadata": {},
          "output_type": "display_data"
        }
      ],
      "source": [
        "\n",
        "sns.barplot(x=df_percentage.index, y=df_percentage.values)"
      ]
    },
    {
      "cell_type": "markdown",
      "id": "474f5c61",
      "metadata": {
        "id": "474f5c61"
      },
      "source": [
        "foreign data is due to the fact that some data are only for student or workers"
      ]
    },
    {
      "cell_type": "markdown",
      "id": "637a1644",
      "metadata": {
        "id": "637a1644"
      },
      "source": [
        "## exploration of the difference between pressure in work or study"
      ]
    },
    {
      "cell_type": "markdown",
      "id": "c5882a1d",
      "metadata": {
        "id": "c5882a1d"
      },
      "source": [
        "## exploration of the difference between satisfaction in work or study"
      ]
    }
  ],
  "metadata": {
    "colab": {
      "provenance": [],
      "include_colab_link": true
    },
    "kaggle": {
      "accelerator": "none",
      "dataSources": [
        {
          "databundleVersionId": 10008389,
          "sourceId": 84895,
          "sourceType": "competition"
        }
      ],
      "dockerImageVersionId": 30786,
      "isGpuEnabled": false,
      "isInternetEnabled": true,
      "language": "python",
      "sourceType": "notebook"
    },
    "kernelspec": {
      "display_name": "kaggle",
      "language": "python",
      "name": "python3"
    },
    "language_info": {
      "codemirror_mode": {
        "name": "ipython",
        "version": 3
      },
      "file_extension": ".py",
      "mimetype": "text/x-python",
      "name": "python",
      "nbconvert_exporter": "python",
      "pygments_lexer": "ipython3",
      "version": "3.9.20"
    },
    "papermill": {
      "default_parameters": {},
      "duration": 5.780031,
      "end_time": "2024-11-16T16:37:40.305293",
      "environment_variables": {},
      "exception": null,
      "input_path": "__notebook__.ipynb",
      "output_path": "__notebook__.ipynb",
      "parameters": {},
      "start_time": "2024-11-16T16:37:34.525262",
      "version": "2.6.0"
    }
  },
  "nbformat": 4,
  "nbformat_minor": 5
}
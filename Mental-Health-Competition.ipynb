{
 "cells": [
  {
   "cell_type": "markdown",
   "id": "891cffc7",
   "metadata": {
    "id": "view-in-github",
    "papermill": {
     "duration": 0.004053,
     "end_time": "2024-11-18T19:50:14.971250",
     "exception": false,
     "start_time": "2024-11-18T19:50:14.967197",
     "status": "completed"
    },
    "tags": []
   },
   "source": [
    "<a href=\"https://colab.research.google.com/github/diezeJhon/kaggle/blob/main/Mental-Health-Competition.ipynb\" target=\"_parent\"><img src=\"https://colab.research.google.com/assets/colab-badge.svg\" alt=\"Open In Colab\"/></a>"
   ]
  },
  {
   "cell_type": "markdown",
   "id": "e6480814",
   "metadata": {
    "id": "2c49218a",
    "papermill": {
     "duration": 0.003094,
     "end_time": "2024-11-18T19:50:14.977894",
     "exception": false,
     "start_time": "2024-11-18T19:50:14.974800",
     "status": "completed"
    },
    "tags": []
   },
   "source": [
    "# Competition kaggle :\n",
    "https://www.kaggle.com/competitions/playground-series-s4e11\n",
    "\n",
    "- Submissions are evaluated using Accuracy Score.\n"
   ]
  },
  {
   "cell_type": "code",
   "execution_count": 1,
   "id": "75a4dc33",
   "metadata": {
    "_cell_guid": "b1076dfc-b9ad-4769-8c92-a6c4dae69d19",
    "_uuid": "8f2839f25d086af736a60e9eeb907d3b93b6e0e5",
    "execution": {
     "iopub.execute_input": "2024-11-18T19:50:14.986625Z",
     "iopub.status.busy": "2024-11-18T19:50:14.986101Z",
     "iopub.status.idle": "2024-11-18T19:50:15.913375Z",
     "shell.execute_reply": "2024-11-18T19:50:15.911998Z"
    },
    "id": "68395d29",
    "outputId": "085bfbaa-b14a-4b3f-9c2b-8e050b523254",
    "papermill": {
     "duration": 0.93472,
     "end_time": "2024-11-18T19:50:15.915925",
     "exception": false,
     "start_time": "2024-11-18T19:50:14.981205",
     "status": "completed"
    },
    "tags": []
   },
   "outputs": [
    {
     "name": "stdout",
     "output_type": "stream",
     "text": [
      "Kaggle environment detected. Base path set to: /kaggle/input/playground-series-s4e11\n",
      "Contents of the directory '/kaggle/input/playground-series-s4e11':\n",
      "/kaggle/input/playground-series-s4e11/sample_submission.csv\n",
      "/kaggle/input/playground-series-s4e11/train.csv\n",
      "/kaggle/input/playground-series-s4e11/test.csv\n"
     ]
    }
   ],
   "source": [
    "import numpy as np\n",
    "import pandas as pd\n",
    "import sys\n",
    "import os\n",
    "# Define the base path depending on the environment\n",
    "nameCompetition = \"playground-series-s4e11\"\n",
    "if 'google.colab' in sys.modules:\n",
    "    from google.colab import drive\n",
    "    drive.mount('/content/drive')\n",
    "    base_path = \"/content/drive/MyDrive/data/kaggle/\" + nameCompetition\n",
    "    print(\"Google Colab detected. Base path set to:\", base_path)\n",
    "elif \"KAGGLE_KERNEL_RUN_TYPE\" in os.environ:\n",
    "    base_path = \"/kaggle/input/\" + nameCompetition\n",
    "    print(\"Kaggle environment detected. Base path set to:\", base_path)\n",
    "else:\n",
    "    base_path = \"../input/\" + nameCompetition\n",
    "    print(\"Local environment detected. Base path set to:\", base_path)\n",
    "# List all files in the base path directory\n",
    "if os.path.exists(base_path):\n",
    "    print(f\"Contents of the directory '{base_path}':\")\n",
    "    for dirname, _, filenames in os.walk(base_path):\n",
    "        for filename in filenames:\n",
    "            print(os.path.join(dirname, filename))\n",
    "else:\n",
    "    print(f\"The directory '{base_path}' does not exist.\")\n"
   ]
  },
  {
   "cell_type": "code",
   "execution_count": 2,
   "id": "20c0c9ed",
   "metadata": {
    "execution": {
     "iopub.execute_input": "2024-11-18T19:50:15.925081Z",
     "iopub.status.busy": "2024-11-18T19:50:15.924589Z",
     "iopub.status.idle": "2024-11-18T19:50:16.609850Z",
     "shell.execute_reply": "2024-11-18T19:50:16.608669Z"
    },
    "id": "831b3102",
    "papermill": {
     "duration": 0.693319,
     "end_time": "2024-11-18T19:50:16.613054",
     "exception": false,
     "start_time": "2024-11-18T19:50:15.919735",
     "status": "completed"
    },
    "tags": []
   },
   "outputs": [],
   "source": [
    "df = pd.read_csv(f\"{base_path}/train.csv\")"
   ]
  },
  {
   "cell_type": "code",
   "execution_count": 3,
   "id": "99c399fe",
   "metadata": {
    "execution": {
     "iopub.execute_input": "2024-11-18T19:50:16.623303Z",
     "iopub.status.busy": "2024-11-18T19:50:16.622943Z",
     "iopub.status.idle": "2024-11-18T19:50:16.724233Z",
     "shell.execute_reply": "2024-11-18T19:50:16.722881Z"
    },
    "id": "38148669",
    "outputId": "bc62fc3a-31a4-4f55-a57a-005b88f14383",
    "papermill": {
     "duration": 0.109274,
     "end_time": "2024-11-18T19:50:16.726659",
     "exception": false,
     "start_time": "2024-11-18T19:50:16.617385",
     "status": "completed"
    },
    "tags": []
   },
   "outputs": [
    {
     "name": "stdout",
     "output_type": "stream",
     "text": [
      "<class 'pandas.core.frame.DataFrame'>\n",
      "RangeIndex: 140700 entries, 0 to 140699\n",
      "Data columns (total 20 columns):\n",
      " #   Column                                 Non-Null Count   Dtype  \n",
      "---  ------                                 --------------   -----  \n",
      " 0   id                                     140700 non-null  int64  \n",
      " 1   Name                                   140700 non-null  object \n",
      " 2   Gender                                 140700 non-null  object \n",
      " 3   Age                                    140700 non-null  float64\n",
      " 4   City                                   140700 non-null  object \n",
      " 5   Working Professional or Student        140700 non-null  object \n",
      " 6   Profession                             104070 non-null  object \n",
      " 7   Academic Pressure                      27897 non-null   float64\n",
      " 8   Work Pressure                          112782 non-null  float64\n",
      " 9   CGPA                                   27898 non-null   float64\n",
      " 10  Study Satisfaction                     27897 non-null   float64\n",
      " 11  Job Satisfaction                       112790 non-null  float64\n",
      " 12  Sleep Duration                         140700 non-null  object \n",
      " 13  Dietary Habits                         140696 non-null  object \n",
      " 14  Degree                                 140698 non-null  object \n",
      " 15  Have you ever had suicidal thoughts ?  140700 non-null  object \n",
      " 16  Work/Study Hours                       140700 non-null  float64\n",
      " 17  Financial Stress                       140696 non-null  float64\n",
      " 18  Family History of Mental Illness       140700 non-null  object \n",
      " 19  Depression                             140700 non-null  int64  \n",
      "dtypes: float64(8), int64(2), object(10)\n",
      "memory usage: 21.5+ MB\n"
     ]
    }
   ],
   "source": [
    "df.info()"
   ]
  },
  {
   "cell_type": "markdown",
   "id": "4352b87f",
   "metadata": {
    "id": "725d1097",
    "papermill": {
     "duration": 0.003564,
     "end_time": "2024-11-18T19:50:16.734142",
     "exception": false,
     "start_time": "2024-11-18T19:50:16.730578",
     "status": "completed"
    },
    "tags": []
   },
   "source": [
    "# EDA - Exploratory Data Analysis"
   ]
  },
  {
   "cell_type": "markdown",
   "id": "8d447002",
   "metadata": {
    "id": "b0f1cda0",
    "papermill": {
     "duration": 0.003504,
     "end_time": "2024-11-18T19:50:16.741372",
     "exception": false,
     "start_time": "2024-11-18T19:50:16.737868",
     "status": "completed"
    },
    "tags": []
   },
   "source": [
    "## What is CGPA?"
   ]
  },
  {
   "cell_type": "markdown",
   "id": "47a0f684",
   "metadata": {
    "id": "0d50b275",
    "papermill": {
     "duration": 0.003427,
     "end_time": "2024-11-18T19:50:16.748591",
     "exception": false,
     "start_time": "2024-11-18T19:50:16.745164",
     "status": "completed"
    },
    "tags": []
   },
   "source": [
    "CGPA stands for Cumulative Grade Point Average. It is a grading system used in many countries (notably in India, the United States, and some European educational systems) to assess the overall academic performance of a student over a given period.\n",
    "\n",
    "formula = Grade * credits / Total credits"
   ]
  },
  {
   "cell_type": "code",
   "execution_count": 4,
   "id": "4e870ea7",
   "metadata": {
    "execution": {
     "iopub.execute_input": "2024-11-18T19:50:16.757544Z",
     "iopub.status.busy": "2024-11-18T19:50:16.757135Z",
     "iopub.status.idle": "2024-11-18T19:50:16.786095Z",
     "shell.execute_reply": "2024-11-18T19:50:16.784954Z"
    },
    "id": "e587b518",
    "outputId": "3af8200f-0513-4007-fcd1-6cf4149b5766",
    "papermill": {
     "duration": 0.036082,
     "end_time": "2024-11-18T19:50:16.788335",
     "exception": false,
     "start_time": "2024-11-18T19:50:16.752253",
     "status": "completed"
    },
    "tags": []
   },
   "outputs": [
    {
     "data": {
      "text/plain": [
       "count    27898.000000\n",
       "mean         7.658636\n",
       "std          1.464466\n",
       "min          5.030000\n",
       "25%          6.290000\n",
       "50%          7.770000\n",
       "75%          8.920000\n",
       "max         10.000000\n",
       "Name: CGPA, dtype: float64"
      ]
     },
     "execution_count": 4,
     "metadata": {},
     "output_type": "execute_result"
    }
   ],
   "source": [
    "df[\"CGPA\"].describe()"
   ]
  },
  {
   "cell_type": "code",
   "execution_count": 5,
   "id": "1f101681",
   "metadata": {
    "execution": {
     "iopub.execute_input": "2024-11-18T19:50:16.799385Z",
     "iopub.status.busy": "2024-11-18T19:50:16.798994Z",
     "iopub.status.idle": "2024-11-18T19:50:16.875145Z",
     "shell.execute_reply": "2024-11-18T19:50:16.874026Z"
    },
    "id": "1ef98073",
    "outputId": "2a23b89b-d8b1-4961-8664-071926c1928e",
    "papermill": {
     "duration": 0.083811,
     "end_time": "2024-11-18T19:50:16.877514",
     "exception": false,
     "start_time": "2024-11-18T19:50:16.793703",
     "status": "completed"
    },
    "tags": []
   },
   "outputs": [
    {
     "data": {
      "text/plain": [
       "id                                        0.000000\n",
       "Name                                      0.000000\n",
       "Gender                                    0.000000\n",
       "Age                                       0.000000\n",
       "City                                      0.000000\n",
       "Working Professional or Student           0.000000\n",
       "Profession                               26.034115\n",
       "Academic Pressure                        80.172708\n",
       "Work Pressure                            19.842217\n",
       "CGPA                                     80.171997\n",
       "Study Satisfaction                       80.172708\n",
       "Job Satisfaction                         19.836532\n",
       "Sleep Duration                            0.000000\n",
       "Dietary Habits                            0.002843\n",
       "Degree                                    0.001421\n",
       "Have you ever had suicidal thoughts ?     0.000000\n",
       "Work/Study Hours                          0.000000\n",
       "Financial Stress                          0.002843\n",
       "Family History of Mental Illness          0.000000\n",
       "Depression                                0.000000\n",
       "dtype: float64"
      ]
     },
     "execution_count": 5,
     "metadata": {},
     "output_type": "execute_result"
    }
   ],
   "source": [
    "(df.isna().sum() / len(df)) * 100"
   ]
  },
  {
   "cell_type": "code",
   "execution_count": 6,
   "id": "2d52d249",
   "metadata": {
    "execution": {
     "iopub.execute_input": "2024-11-18T19:50:16.887555Z",
     "iopub.status.busy": "2024-11-18T19:50:16.886397Z",
     "iopub.status.idle": "2024-11-18T19:50:18.614296Z",
     "shell.execute_reply": "2024-11-18T19:50:18.613174Z"
    },
    "id": "41cbb54f",
    "outputId": "809ed73f-d7d7-479c-c699-0b221dcf85e0",
    "papermill": {
     "duration": 1.735349,
     "end_time": "2024-11-18T19:50:18.616742",
     "exception": false,
     "start_time": "2024-11-18T19:50:16.881393",
     "status": "completed"
    },
    "tags": []
   },
   "outputs": [
    {
     "data": {
      "text/plain": [
       "Working Professional or Student\n",
       "Working Professional    80.169865\n",
       "Student                 19.830135\n",
       "Name: proportion, dtype: float64"
      ]
     },
     "execution_count": 6,
     "metadata": {},
     "output_type": "execute_result"
    }
   ],
   "source": [
    "\n",
    "import seaborn as sns\n",
    "df_percentage = df[\"Working Professional or Student\"].value_counts(normalize=True) * 100\n",
    "df_percentage"
   ]
  },
  {
   "cell_type": "code",
   "execution_count": 7,
   "id": "674f51d4",
   "metadata": {
    "execution": {
     "iopub.execute_input": "2024-11-18T19:50:18.627440Z",
     "iopub.status.busy": "2024-11-18T19:50:18.626939Z",
     "iopub.status.idle": "2024-11-18T19:50:18.898049Z",
     "shell.execute_reply": "2024-11-18T19:50:18.896697Z"
    },
    "id": "5a93ea35",
    "outputId": "3a6198c9-c541-40bd-e1e9-13865736f94d",
    "papermill": {
     "duration": 0.279229,
     "end_time": "2024-11-18T19:50:18.900834",
     "exception": false,
     "start_time": "2024-11-18T19:50:18.621605",
     "status": "completed"
    },
    "tags": []
   },
   "outputs": [
    {
     "data": {
      "text/plain": [
       "<Axes: xlabel='Working Professional or Student'>"
      ]
     },
     "execution_count": 7,
     "metadata": {},
     "output_type": "execute_result"
    },
    {
     "data": {
      "image/png": "[encoded data removed]",
      "text/plain": [
       "<Figure size 640x480 with 1 Axes>"
      ]
     },
     "metadata": {},
     "output_type": "display_data"
    }
   ],
   "source": [
    "\n",
    "sns.barplot(x=df_percentage.index, y=df_percentage.values)"
   ]
  },
  {
   "cell_type": "markdown",
   "id": "a5e1f60e",
   "metadata": {
    "id": "474f5c61",
    "papermill": {
     "duration": 0.004228,
     "end_time": "2024-11-18T19:50:18.909635",
     "exception": false,
     "start_time": "2024-11-18T19:50:18.905407",
     "status": "completed"
    },
    "tags": []
   },
   "source": [
    "foreign data is due to the fact that some data are only for student or workers"
   ]
  },
  {
   "cell_type": "markdown",
   "id": "57f37910",
   "metadata": {
    "id": "637a1644",
    "papermill": {
     "duration": 0.004071,
     "end_time": "2024-11-18T19:50:18.918175",
     "exception": false,
     "start_time": "2024-11-18T19:50:18.914104",
     "status": "completed"
    },
    "tags": []
   },
   "source": [
    "## exploration of the difference between pressure in work or study"
   ]
  },
  {
   "cell_type": "markdown",
   "id": "dd1d5e06",
   "metadata": {
    "id": "c5882a1d",
    "papermill": {
     "duration": 0.004002,
     "end_time": "2024-11-18T19:50:18.926510",
     "exception": false,
     "start_time": "2024-11-18T19:50:18.922508",
     "status": "completed"
    },
    "tags": []
   },
   "source": [
    "## exploration of the difference between satisfaction in work or study"
   ]
  },
  {
   "cell_type": "code",
   "execution_count": null,
   "id": "b4ce39b3",
   "metadata": {
    "papermill": {
     "duration": 0.004058,
     "end_time": "2024-11-18T19:50:18.934791",
     "exception": false,
     "start_time": "2024-11-18T19:50:18.930733",
     "status": "completed"
    },
    "tags": []
   },
   "outputs": [],
   "source": []
  }
 ],
 "metadata": {
  "colab": {
   "include_colab_link": true,
   "provenance": []
  },
  "kaggle": {
   "accelerator": "none",
   "dataSources": [
    {
     "databundleVersionId": 10008389,
     "sourceId": 84895,
     "sourceType": "competition"
    }
   ],
   "dockerImageVersionId": 30786,
   "isGpuEnabled": false,
   "isInternetEnabled": true,
   "language": "python",
   "sourceType": "notebook"
  },
  "kernelspec": {
   "display_name": "kaggle",
   "language": "python",
   "name": "python3"
  },
  "language_info": {
   "codemirror_mode": {
    "name": "ipython",
    "version": 3
   },
   "file_extension": ".py",
   "mimetype": "text/x-python",
   "name": "python",
   "nbconvert_exporter": "python",
   "pygments_lexer": "ipython3",
   "version": "3.10.14"
  },
  "papermill": {
   "default_parameters": {},
   "duration": 7.505968,
   "end_time": "2024-11-18T19:50:19.559746",
   "environment_variables": {},
   "exception": null,
   "input_path": "__notebook__.ipynb",
   "output_path": "__notebook__.ipynb",
   "parameters": {},
   "start_time": "2024-11-18T19:50:12.053778",
   "version": "2.6.0"
  }
 },
 "nbformat": 4,
 "nbformat_minor": 5
}

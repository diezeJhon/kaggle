{
 "cells": [
  {
   "cell_type": "code",
   "execution_count": 6,
   "metadata": {},
   "outputs": [
    {
     "name": "stdout",
     "output_type": "stream",
     "text": [
      "Local environment detected. Base path set to: /mnt/g/Mon Drive/data/kaggle/playground-series-s4e12\n",
      "Contents of the directory '/mnt/g/Mon Drive/data/kaggle/playground-series-s4e12':\n",
      "/mnt/g/Mon Drive/data/kaggle/playground-series-s4e12/test.csv\n",
      "/mnt/g/Mon Drive/data/kaggle/playground-series-s4e12/train.csv\n",
      "/mnt/g/Mon Drive/data/kaggle/playground-series-s4e12/sample_submission.csv\n"
     ]
    }
   ],
   "source": [
    "import numpy as np\n",
    "import pandas as pd\n",
    "import sys\n",
    "import os\n",
    "# Define the base path depending on the environment\n",
    "nameCompetition = \"playground-series-s4e12\"\n",
    "if 'google.colab' in sys.modules:\n",
    "    from google.colab import drive\n",
    "    drive.mount('/content/drive')\n",
    "    base_path = \"/content/drive/MyDrive/data/kaggle/\" + nameCompetition\n",
    "    print(\"Google Colab detected. Base path set to:\", base_path)\n",
    "\n",
    "elif \"KAGGLE_KERNEL_RUN_TYPE\" in os.environ:\n",
    "    base_path = \"/kaggle/input/\" + nameCompetition\n",
    "    print(\"Kaggle environment detected. Base path set to:\", base_path)\n",
    "else:\n",
    "    base_path = \"/mnt/g/Mon Drive/data/kaggle/\" + nameCompetition\n",
    "    print(\"Local environment detected. Base path set to:\", base_path)\n",
    "# List all files in the base path directory\n",
    "if os.path.exists(base_path):\n",
    "    print(f\"Contents of the directory '{base_path}':\")\n",
    "    for dirname, _, filenames in os.walk(base_path):\n",
    "        for filename in filenames:\n",
    "            print(os.path.join(dirname, filename))\n",
    "else:\n",
    "    print(f\"The directory '{base_path}' does not exist.\")\n"
   ]
  },
  {
   "cell_type": "code",
   "execution_count": null,
   "metadata": {},
   "outputs": [],
   "source": [
    "df_train = pd.read_csv(base_path + \"/train.csv\")\n",
    "df_test = pd.read_csv(base_path + \"/test.csv\")"
   ]
  },
  {
   "cell_type": "markdown",
   "metadata": {},
   "source": [
    "# Context"
   ]
  },
  {
   "cell_type": "markdown",
   "metadata": {},
   "source": [
    "# EDA"
   ]
  },
  {
   "cell_type": "markdown",
   "metadata": {},
   "source": [
    "# preprocessing"
   ]
  },
  {
   "cell_type": "markdown",
   "metadata": {},
   "source": [
    "# Model"
   ]
  }
 ],
 "metadata": {
  "kernelspec": {
   "display_name": "kaggle",
   "language": "python",
   "name": "python3"
  },
  "language_info": {
   "codemirror_mode": {
    "name": "ipython",
    "version": 3
   },
   "file_extension": ".py",
   "mimetype": "text/x-python",
   "name": "python",
   "nbconvert_exporter": "python",
   "pygments_lexer": "ipython3",
   "version": "3.11.10"
  }
 },
 "nbformat": 4,
 "nbformat_minor": 2
}

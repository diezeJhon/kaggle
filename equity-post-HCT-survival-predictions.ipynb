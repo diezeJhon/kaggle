{
 "cells": [
  {
   "cell_type": "code",
   "execution_count": 1,
   "metadata": {},
   "outputs": [
    {
     "name": "stdout",
     "output_type": "stream",
     "text": [
      "Local environment detected. Base path set to: ./data/equity-post-HCT-survival-predictions\n",
      "Contents of the directory './data/equity-post-HCT-survival-predictions':\n",
      "./data/equity-post-HCT-survival-predictions/test.csv\n",
      "./data/equity-post-HCT-survival-predictions/sample_submission.csv\n",
      "./data/equity-post-HCT-survival-predictions/data_dictionary.csv\n",
      "./data/equity-post-HCT-survival-predictions/train.csv\n"
     ]
    }
   ],
   "source": [
    "import numpy as np\n",
    "import pandas as pd\n",
    "import sys\n",
    "import os\n",
    "# Define the base path depending on the environment\n",
    "nameCompetition = \"equity-post-HCT-survival-predictions\"\n",
    "if 'google.colab' in sys.modules:\n",
    "    from google.colab import drive\n",
    "    drive.mount('/content/drive')\n",
    "    base_path = \"/content/drive/MyDrive/data/kaggle/\" + nameCompetition\n",
    "    print(\"Google Colab detected. Base path set to:\", base_path)\n",
    "elif \"KAGGLE_KERNEL_RUN_TYPE\" in os.environ:\n",
    "    base_path = \"/kaggle/input/\" + nameCompetition\n",
    "    print(\"Kaggle environment detected. Base path set to:\", base_path)\n",
    "else:\n",
    "    base_path = \"./data/\" + nameCompetition\n",
    "    print(\"Local environment detected. Base path set to:\", base_path)\n",
    "# List all files in the base path directory\n",
    "if os.path.exists(base_path):\n",
    "    print(f\"Contents of the directory '{base_path}':\")\n",
    "    for dirname, _, filenames in os.walk(base_path):\n",
    "        for filename in filenames:\n",
    "            print(os.path.join(dirname, filename))\n",
    "else:\n",
    "    print(f\"The directory '{base_path}' does not exist.\")\n"
   ]
  }
 ],
 "metadata": {
  "kernelspec": {
   "display_name": "kaggle",
   "language": "python",
   "name": "python3"
  },
  "language_info": {
   "codemirror_mode": {
    "name": "ipython",
    "version": 3
   },
   "file_extension": ".py",
   "mimetype": "text/x-python",
   "name": "python",
   "nbconvert_exporter": "python",
   "pygments_lexer": "ipython3",
   "version": "3.9.20"
  }
 },
 "nbformat": 4,
 "nbformat_minor": 2
}

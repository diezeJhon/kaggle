{
  "nbformat": 4,
  "nbformat_minor": 0,
  "metadata": {
    "colab": {
      "provenance": [],
      "mount_file_id": "https://github.com/diezeJhon/kaggle/blob/main/Rainfall_Dataset.ipynb",
      "authorship_tag": "ABX9TyNsieiZGDHtjkvvAxKU/qJz",
      "include_colab_link": true
    },
    "kernelspec": {
      "name": "python3",
      "display_name": "Python 3"
    },
    "language_info": {
      "name": "python"
    }
  },
  "cells": [
    {
      "cell_type": "markdown",
      "metadata": {
        "id": "view-in-github",
        "colab_type": "text"
      },
      "source": [
        "<a href=\"https://colab.research.google.com/github/diezeJhon/kaggle/blob/main/Rainfall_Dataset.ipynb\" target=\"_parent\"><img src=\"https://colab.research.google.com/assets/colab-badge.svg\" alt=\"Open In Colab\"/></a>"
      ]
    },
    {
      "cell_type": "markdown",
      "source": [
        "# Binary Prediction with a Rainfall Dataset"
      ],
      "metadata": {
        "id": "BClADL3EQqHq"
      }
    },
    {
      "cell_type": "code",
      "source": [
        "import os\n",
        "import gdown\n",
        "import pandas as pd\n",
        "\n",
        "# Create the directory for storing files\n",
        "DATA_DIR = \"data\"\n",
        "os.makedirs(DATA_DIR, exist_ok=True)\n",
        "\n",
        "# Google Drive file IDs (replace with actual IDs)\n",
        "TRAIN_FILE_ID = \"1D9tUDHhNVUqNrKxpZhNRZ50J9tYqd-fW\"\n",
        "TEST_FILE_ID = \"1ofU9_xRpb7EOGJOJxOFGY2ZYIelylptk\"\n",
        "\n",
        "# File paths\n",
        "train_output = os.path.join(DATA_DIR, \"train.csv\")\n",
        "test_output = os.path.join(DATA_DIR, \"test.csv\")\n",
        "\n",
        "# Download train.csv\n",
        "print(\"📥 Downloading train.csv...\")\n",
        "gdown.download(f\"https://drive.google.com/uc?id={TRAIN_FILE_ID}\", train_output, quiet=False)\n",
        "\n",
        "# Download test.csv\n",
        "print(\"📥 Downloading test.csv...\")\n",
        "gdown.download(f\"https://drive.google.com/uc?id={TEST_FILE_ID}\", test_output, quiet=False)\n",
        "\n",
        "# Load into Pandas DataFrame\n",
        "print(\"📊 Loading data into DataFrames...\")\n",
        "df_train = pd.read_csv(train_output)\n",
        "df_test = pd.read_csv(test_output)\n",
        "\n",
        "# Confirm shapes\n",
        "print(\"\\n✅ Files downloaded successfully!\")\n",
        "print(f\"Train shape: {df_train.shape}\")\n",
        "print(f\"Test shape: {df_test.shape}\")\n",
        "\n",
        "# Optional: Preview the first few rows\n",
        "print(\"\\n🔎 Preview of Train DataFrame:\")\n",
        "print(df_train.head(1))\n",
        "print(\"\\n🔎 Preview of Test DataFrame:\")\n",
        "print(df_test.head(1))\n"
      ],
      "metadata": {
        "colab": {
          "base_uri": "https://localhost:8080/"
        },
        "id": "Jvri1BcQQvKE",
        "outputId": "1f9d94f2-d20e-4295-8a77-116e31e7b550"
      },
      "execution_count": 11,
      "outputs": [
        {
          "output_type": "stream",
          "name": "stdout",
          "text": [
            "📥 Downloading train.csv...\n"
          ]
        },
        {
          "output_type": "stream",
          "name": "stderr",
          "text": [
            "Downloading...\n",
            "From: https://drive.google.com/uc?id=1D9tUDHhNVUqNrKxpZhNRZ50J9tYqd-fW\n",
            "To: /content/data/train.csv\n",
            "100%|██████████| 135k/135k [00:00<00:00, 68.8MB/s]\n"
          ]
        },
        {
          "output_type": "stream",
          "name": "stdout",
          "text": [
            "📥 Downloading test.csv...\n"
          ]
        },
        {
          "output_type": "stream",
          "name": "stderr",
          "text": [
            "Downloading...\n",
            "From: https://drive.google.com/uc?id=1ofU9_xRpb7EOGJOJxOFGY2ZYIelylptk\n",
            "To: /content/data/test.csv\n",
            "100%|██████████| 43.9k/43.9k [00:00<00:00, 30.1MB/s]"
          ]
        },
        {
          "output_type": "stream",
          "name": "stdout",
          "text": [
            "📊 Loading data into DataFrames...\n",
            "\n",
            "✅ Files downloaded successfully!\n",
            "Train shape: (2190, 13)\n",
            "Test shape: (730, 12)\n",
            "\n",
            "🔎 Preview of Train DataFrame:\n",
            "   id  day  pressure  maxtemp  temparature  mintemp  dewpoint  humidity  \\\n",
            "0   0    1    1017.4     21.2         20.6     19.9      19.4      87.0   \n",
            "\n",
            "   cloud  sunshine  winddirection  windspeed  rainfall  \n",
            "0   88.0       1.1           60.0       17.2         1  \n",
            "\n",
            "🔎 Preview of Test DataFrame:\n",
            "     id  day  pressure  maxtemp  temparature  mintemp  dewpoint  humidity  \\\n",
            "0  2190    1    1019.5     17.5         15.8     12.7      14.9      96.0   \n",
            "\n",
            "   cloud  sunshine  winddirection  windspeed  \n",
            "0   99.0       0.0           50.0       24.3  \n"
          ]
        },
        {
          "output_type": "stream",
          "name": "stderr",
          "text": [
            "\n"
          ]
        }
      ]
    },
    {
      "cell_type": "code",
      "source": [],
      "metadata": {
        "id": "v2dd7p4ARRYB",
        "outputId": "2a11e0a5-299e-4800-9b2f-00d118595f93",
        "colab": {
          "base_uri": "https://localhost:8080/"
        }
      },
      "execution_count": 7,
      "outputs": [
        {
          "output_type": "execute_result",
          "data": {
            "text/plain": [
              "(730, 12)"
            ]
          },
          "metadata": {},
          "execution_count": 7
        }
      ]
    }
  ]
}